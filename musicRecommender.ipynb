{
 "cells": [
  {
   "cell_type": "code",
   "execution_count": 10,
   "id": "7a5e96d5-3f34-43ad-b2ac-a608303d6295",
   "metadata": {},
   "outputs": [
    {
     "data": {
      "text/plain": [
       "['music-recommender.joblib']"
      ]
     },
     "execution_count": 10,
     "metadata": {},
     "output_type": "execute_result"
    }
   ],
   "source": [
    "# Preparing the Data\n",
    "# Learning and Predicting\n",
    "# Calculating the Accuracy\n",
    "\n",
    "import pandas as pd\n",
    "from sklearn.tree import DecisionTreeClassifier\n",
    "from sklearn.model_selection import train_test_split\n",
    "from sklearn.metrics import accuracy_score\n",
    "\n",
    "\n",
    "music_data = pd.read_csv('music.csv') # read data from .csv file\n",
    "X = music_data.drop(columns= ['genre' ]) # input dataset\n",
    "y = music_data['genre']  # output dataset\n",
    "X_train, X_test, y_train, y_test = train_test_split(X,y,test_size=0.2)\n",
    "\n",
    "model = DecisionTreeClassifier() # creating model, instance of DecisionTreeClassifier class\n",
    "model.fit(X_train,y_train) # train the model \n",
    "predictions = model.predict(X_test) # make prediction \n",
    "\n",
    "score = accuracy_score(y_test, predictions)\n",
    "score"
   ]
  },
  {
   "cell_type": "code",
   "execution_count": 11,
   "id": "10fc82d5-7ec9-4da9-ac11-d855df760301",
   "metadata": {},
   "outputs": [
    {
     "name": "stderr",
     "output_type": "stream",
     "text": [
      "C:\\Users\\sumai\\anaconda3\\Lib\\site-packages\\sklearn\\base.py:439: UserWarning: X does not have valid feature names, but DecisionTreeClassifier was fitted with feature names\n",
      "  warnings.warn(\n"
     ]
    },
    {
     "data": {
      "text/plain": [
       "array(['HipHop'], dtype=object)"
      ]
     },
     "execution_count": 11,
     "metadata": {},
     "output_type": "execute_result"
    }
   ],
   "source": [
    "# persisting Models- once build and train the model, then save it to a file. Next time during making predictions, \n",
    "# simply load the model from the file and ask it to make predictions  \n",
    "\n",
    "import pandas as pd\n",
    "from sklearn.tree import DecisionTreeClassifier\n",
    "import joblib\n",
    "\n",
    "# music_data = pd.read_csv('music.csv') # read data from .csv file\n",
    "# X = music_data.drop(columns= ['genre' ]) # input dataset\n",
    "# y = music_data['genre']  # output dataset\n",
    "\n",
    "# model = DecisionTreeClassifier() # creating model, instance of DecisionTreeClassifier class\n",
    "# model.fit(X,y) # train the model \n",
    "\n",
    "# joblib.dump(model,'music-recommender.joblib') # saving and loading model\n",
    "model = joblib.load('music-recommender.joblib')\n",
    "predictions = model.predict([[21,1]]) # make prediction \n",
    "predictions"
   ]
  },
  {
   "cell_type": "code",
   "execution_count": 12,
   "id": "e8c8d1f7-097a-4f05-a0af-c54dcd3fdd55",
   "metadata": {},
   "outputs": [],
   "source": [
    "# Visualizing a Decision Tree\n",
    "import pandas as pd\n",
    "from sklearn.tree import DecisionTreeClassifier\n",
    "from sklearn import tree\n",
    "\n",
    "music_data = pd.read_csv('music.csv') # read data from .csv file\n",
    "X = music_data.drop(columns= ['genre' ]) # input dataset\n",
    "y = music_data['genre']  # output dataset\n",
    "\n",
    "model = DecisionTreeClassifier() # creating model, instance of DecisionTreeClassifier class\n",
    "model.fit(X,y) # train the model \n",
    "\n",
    "tree.export_graphviz (model, out_file='music-recommender.dot',\n",
    "                      feature_names=['age','gender'],\n",
    "                      class_names=sorted(y.unique()),\n",
    "                      label='all',\n",
    "                      rounded=True,\n",
    "                      filled=True)\n"
   ]
  },
  {
   "cell_type": "code",
   "execution_count": null,
   "id": "a6f204ca-4991-4f25-a247-cf9d96fa6241",
   "metadata": {},
   "outputs": [],
   "source": []
  }
 ],
 "metadata": {
  "kernelspec": {
   "display_name": "Python 3 (ipykernel)",
   "language": "python",
   "name": "python3"
  },
  "language_info": {
   "codemirror_mode": {
    "name": "ipython",
    "version": 3
   },
   "file_extension": ".py",
   "mimetype": "text/x-python",
   "name": "python",
   "nbconvert_exporter": "python",
   "pygments_lexer": "ipython3",
   "version": "3.11.7"
  }
 },
 "nbformat": 4,
 "nbformat_minor": 5
}
